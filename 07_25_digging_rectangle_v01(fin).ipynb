{
  "nbformat": 4,
  "nbformat_minor": 0,
  "metadata": {
    "colab": {
      "name": "07-25_digging_rectangle_v01(fin)",
      "provenance": [],
      "authorship_tag": "ABX9TyNBUHgnuVJlKKpPYJ0WgFwV",
      "include_colab_link": true
    },
    "kernelspec": {
      "name": "python3",
      "display_name": "Python 3"
    },
    "language_info": {
      "name": "python"
    }
  },
  "cells": [
    {
      "cell_type": "markdown",
      "metadata": {
        "id": "view-in-github",
        "colab_type": "text"
      },
      "source": [
        "<a href=\"https://colab.research.google.com/github/Kimdonghyun95/Kimdonghyun95/blob/main/07_25_digging_rectangle_v01(fin).ipynb\" target=\"_parent\"><img src=\"https://colab.research.google.com/assets/colab-badge.svg\" alt=\"Open In Colab\"/></a>"
      ]
    },
    {
      "cell_type": "code",
      "execution_count": null,
      "metadata": {
        "id": "u85i4redDkRT"
      },
      "outputs": [],
      "source": [
        "import numpy as np"
      ]
    },
    {
      "cell_type": "code",
      "source": [
        "def NAND3 (x1, x2) :\n",
        "  x = np.array([x1,x2])\n",
        "  w = np.array([2, 1])\n",
        "  b = -2.5\n",
        "  temp = np.sum(w*x)+b\n",
        "\n",
        "  if temp<0 :\n",
        "    return 1\n",
        "  else :\n",
        "    return 0"
      ],
      "metadata": {
        "id": "X-evvjvlDqOo"
      },
      "execution_count": null,
      "outputs": []
    },
    {
      "cell_type": "code",
      "source": [
        "print(NAND3(0,0))\n",
        "print(NAND3(1,0))\n",
        "print(NAND3(0,1))\n",
        "print(NAND3(1,1))"
      ],
      "metadata": {
        "colab": {
          "base_uri": "https://localhost:8080/"
        },
        "id": "APO20wCsEIOG",
        "outputId": "d1c0b528-9da9-4be9-b6bb-c35329016025"
      },
      "execution_count": null,
      "outputs": [
        {
          "output_type": "stream",
          "name": "stdout",
          "text": [
            "1\n",
            "1\n",
            "1\n",
            "0\n"
          ]
        }
      ]
    },
    {
      "cell_type": "code",
      "source": [
        "def OR4 (x1, x2) :\n",
        "  x = np.array([x1,x2])\n",
        "  w = np.array([2, 1])\n",
        "  b = 1\n",
        "  temp = np.sum(w*x)+b\n",
        "\n",
        "  if temp>0 :\n",
        "    return 1\n",
        "  else :\n",
        "    return 0"
      ],
      "metadata": {
        "id": "W8HpFDcGEL7T"
      },
      "execution_count": null,
      "outputs": []
    },
    {
      "cell_type": "code",
      "source": [
        "print(OR4(0,0))\n",
        "print(OR4(1,0))\n",
        "print(OR4(0,1))\n",
        "print(OR4(1,1))"
      ],
      "metadata": {
        "colab": {
          "base_uri": "https://localhost:8080/"
        },
        "id": "rGl-RzmhEbE1",
        "outputId": "f4dbcc2e-3857-4235-d4c0-492025818942"
      },
      "execution_count": null,
      "outputs": [
        {
          "output_type": "stream",
          "name": "stdout",
          "text": [
            "1\n",
            "1\n",
            "1\n",
            "1\n"
          ]
        }
      ]
    },
    {
      "cell_type": "code",
      "source": [
        "def AND (x1,x2) :\n",
        "  x = np.array([x1,x2])\n",
        "  w = np.array([0.5, 0.5])\n",
        "  b = -0.7\n",
        "  temp = np.sum(w*x)+b\n",
        "  if temp>0 :\n",
        "    return 1\n",
        "  else :\n",
        "    return 0"
      ],
      "metadata": {
        "id": "otSPJ4FSGTQV"
      },
      "execution_count": null,
      "outputs": []
    },
    {
      "cell_type": "code",
      "source": [
        "print(AND(0,0))\n",
        "print(AND(1,0))\n",
        "print(AND(0,1))\n",
        "print(AND(1,1))"
      ],
      "metadata": {
        "colab": {
          "base_uri": "https://localhost:8080/"
        },
        "id": "cg84vyVWH8EE",
        "outputId": "81f59167-44ab-45ce-c5dd-f24a37ce2085"
      },
      "execution_count": null,
      "outputs": [
        {
          "output_type": "stream",
          "name": "stdout",
          "text": [
            "0\n",
            "0\n",
            "0\n",
            "1\n"
          ]
        }
      ]
    },
    {
      "cell_type": "code",
      "source": [
        "def XOR(x1, x2):\n",
        "  y1=NAND3(x1, x2)\n",
        "  y2=OR4(x1, x2)\n",
        "  y3=AND(y1, y2)\n",
        "  return y3"
      ],
      "metadata": {
        "id": "HTdk8C7WEgMx"
      },
      "execution_count": null,
      "outputs": []
    },
    {
      "cell_type": "code",
      "source": [
        "print(XOR(0,0))\n",
        "print(XOR(1,0))\n",
        "print(XOR(0,1))\n",
        "print(XOR(1,1))"
      ],
      "metadata": {
        "colab": {
          "base_uri": "https://localhost:8080/"
        },
        "id": "H-5Cga9PFPMm",
        "outputId": "12bf4fd2-3ce6-40f4-c7b4-ac835416be91"
      },
      "execution_count": null,
      "outputs": [
        {
          "output_type": "stream",
          "name": "stdout",
          "text": [
            "1\n",
            "1\n",
            "1\n",
            "0\n"
          ]
        }
      ]
    },
    {
      "cell_type": "code",
      "source": [
        ""
      ],
      "metadata": {
        "id": "FRMOMgNpGPoK"
      },
      "execution_count": null,
      "outputs": []
    },
    {
      "cell_type": "code",
      "source": [
        "def NAND1 (x1, x2) :\n",
        "  x = np.array([x1,x2])\n",
        "  w = np.array([-1, 2])\n",
        "  b = -3\n",
        "  temp = np.sum(w*x)+b\n",
        "\n",
        "  if temp<0 :\n",
        "    return 1\n",
        "  else :\n",
        "    return 0"
      ],
      "metadata": {
        "id": "ReVsjpv0Iqxd"
      },
      "execution_count": null,
      "outputs": []
    },
    {
      "cell_type": "code",
      "source": [
        "print(NAND1(0,0))\n",
        "print(NAND1(1,0))\n",
        "print(NAND1(0,1))\n",
        "print(NAND1(1,1))"
      ],
      "metadata": {
        "colab": {
          "base_uri": "https://localhost:8080/"
        },
        "outputId": "f22f3883-b2aa-4b07-8105-be3a3b8a2166",
        "id": "XEW2GGNkIqxe"
      },
      "execution_count": null,
      "outputs": [
        {
          "output_type": "stream",
          "name": "stdout",
          "text": [
            "1\n",
            "1\n",
            "1\n",
            "1\n"
          ]
        }
      ]
    },
    {
      "cell_type": "code",
      "source": [
        "def OR2 (x1, x2) :\n",
        "  x = np.array([x1,x2])\n",
        "  w = np.array([-1, 2])\n",
        "  b = 2\n",
        "  temp = np.sum(w*x)+b\n",
        "\n",
        "  if temp>0 :\n",
        "    return 1\n",
        "  else :\n",
        "    return 0"
      ],
      "metadata": {
        "id": "Yls3bN8ZIqxe"
      },
      "execution_count": null,
      "outputs": []
    },
    {
      "cell_type": "code",
      "source": [
        "print(OR2(0,0))\n",
        "print(OR2(1,0))\n",
        "print(OR2(0,1))\n",
        "print(OR2(1,1))"
      ],
      "metadata": {
        "colab": {
          "base_uri": "https://localhost:8080/"
        },
        "outputId": "5f03a50e-9621-4449-822d-690db93294f6",
        "id": "2y-yHsolIqxf"
      },
      "execution_count": null,
      "outputs": [
        {
          "output_type": "stream",
          "name": "stdout",
          "text": [
            "1\n",
            "1\n",
            "1\n",
            "1\n"
          ]
        }
      ]
    },
    {
      "cell_type": "code",
      "source": [
        "def XOR1(x1, x2):\n",
        "  y4=NAND1(x1, x2)\n",
        "  y5=OR2(x1, x2)\n",
        "  y6=AND(y4, y5)\n",
        "  return y6"
      ],
      "metadata": {
        "id": "dxfT8nrsIqxf"
      },
      "execution_count": null,
      "outputs": []
    },
    {
      "cell_type": "code",
      "source": [
        "print(XOR1(0,0))\n",
        "print(XOR1(1,0))\n",
        "print(XOR1(0,1))\n",
        "print(XOR1(1,1))"
      ],
      "metadata": {
        "colab": {
          "base_uri": "https://localhost:8080/"
        },
        "outputId": "3cc187f8-3cfa-4f71-de38-4f57d3a3bd27",
        "id": "D3QuipaeIqxf"
      },
      "execution_count": null,
      "outputs": [
        {
          "output_type": "stream",
          "name": "stdout",
          "text": [
            "1\n",
            "1\n",
            "1\n",
            "1\n"
          ]
        }
      ]
    },
    {
      "cell_type": "code",
      "source": [
        "def AND2(x1, x2):\n",
        "    y3=XOR(x1, x2)\n",
        "    y6=XOR1(x1, x2)\n",
        "    y7=AND(y3, y6)\n",
        "    return y7"
      ],
      "metadata": {
        "id": "vOsQzvzoXrqj"
      },
      "execution_count": null,
      "outputs": []
    },
    {
      "cell_type": "code",
      "source": [
        "print(AND2(0,0))\n",
        "print(AND2(1,0))\n",
        "print(AND2(0,1))\n",
        "print(AND2(1,1))"
      ],
      "metadata": {
        "colab": {
          "base_uri": "https://localhost:8080/"
        },
        "id": "F8FZDHu5b6D7",
        "outputId": "8d8a0ad8-e232-41ea-d808-66f566414872"
      },
      "execution_count": null,
      "outputs": [
        {
          "output_type": "stream",
          "name": "stdout",
          "text": [
            "1\n",
            "1\n",
            "1\n",
            "0\n"
          ]
        }
      ]
    },
    {
      "cell_type": "code",
      "source": [
        "print(AND2(0.5,0.5))\n",
        "print(AND2(-0.1,-0.1))\n",
        "print(AND2(1,1.1))\n",
        "print(AND2(0,1.5))"
      ],
      "metadata": {
        "colab": {
          "base_uri": "https://localhost:8080/"
        },
        "id": "uonfykwGcEm-",
        "outputId": "59a25e5e-b74c-4e2b-a519-7bc406977ab2"
      },
      "execution_count": null,
      "outputs": [
        {
          "output_type": "stream",
          "name": "stdout",
          "text": [
            "1\n",
            "1\n",
            "0\n",
            "0\n"
          ]
        }
      ]
    },
    {
      "cell_type": "code",
      "source": [
        ""
      ],
      "metadata": {
        "id": "FEUI3W9rqBrV"
      },
      "execution_count": null,
      "outputs": []
    }
  ]
}